{
 "cells": [
  {
   "cell_type": "code",
   "execution_count": 1,
   "id": "e09fdb55",
   "metadata": {},
   "outputs": [],
   "source": [
    "import numpy as np\n",
    "\n",
    "from type_definitions.test_case import TestCase\n",
    "from type_definitions.test_result import TestResult\n",
    "from type_definitions.utils import *"
   ]
  },
  {
   "cell_type": "code",
   "execution_count": 6,
   "id": "c9a7193a",
   "metadata": {},
   "outputs": [
    {
     "name": "stdout",
     "output_type": "stream",
     "text": [
      "Error evaluating cases: alpha (3.044463299533624) out of bounds\n",
      "Error evaluating cases: alpha (-4.245617588506868) out of bounds\n",
      "Error evaluating cases: alpha (5.276349113535417) out of bounds\n",
      "Error evaluating cases: alpha (2.6973117239339928) out of bounds\n",
      "Error evaluating cases: velocity (4035.054250484606) out of bounds\n",
      "Error evaluating cases: alpha (-2.208397697037874) out of bounds\n"
     ]
    },
    {
     "data": {
      "text/plain": [
       "[-500.0, -500.0, -500.0, -500.0]"
      ]
     },
     "execution_count": 6,
     "metadata": {},
     "output_type": "execute_result"
    }
   ],
   "source": [
    "cases = generate_cases(10)\n",
    "results = evaluate_cases(cases)\n",
    "[r.score for r in results if not r.simulation_failed]"
   ]
  },
  {
   "cell_type": "code",
   "execution_count": null,
   "id": "133a0736",
   "metadata": {},
   "outputs": [],
   "source": []
  }
 ],
 "metadata": {
  "kernelspec": {
   "display_name": ".venv",
   "language": "python",
   "name": "python3"
  },
  "language_info": {
   "codemirror_mode": {
    "name": "ipython",
    "version": 3
   },
   "file_extension": ".py",
   "mimetype": "text/x-python",
   "name": "python",
   "nbconvert_exporter": "python",
   "pygments_lexer": "ipython3",
   "version": "3.10.15"
  }
 },
 "nbformat": 4,
 "nbformat_minor": 5
}
