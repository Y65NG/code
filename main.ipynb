{
 "cells": [
  {
   "cell_type": "code",
   "execution_count": 1,
   "id": "e09fdb55",
   "metadata": {},
   "outputs": [],
   "source": [
    "import numpy as np\n",
    "\n",
    "from type_definitions.test_case import TestCase\n",
    "from type_definitions.test_result import TestResult\n",
    "from type_definitions.utils import *"
   ]
  },
  {
   "cell_type": "code",
   "execution_count": 7,
   "id": "c9a7193a",
   "metadata": {},
   "outputs": [
    {
     "name": "stdout",
     "output_type": "stream",
     "text": [
      "Error evaluating cases: alpha (-12.014139128703837) out of bounds\n",
      "Error evaluating cases: alpha (2.0225889054871105) out of bounds\n",
      "Error evaluating cases: velocity (6939.499912705815) out of bounds\n",
      "Error evaluating cases: alpha (-2.3758546309486968) out of bounds\n",
      "Error evaluating cases: alpha (2.0059773489470683) out of bounds\n",
      "Error evaluating cases: velocity (3677.817075850336) out of bounds\n",
      "Error evaluating cases: velocity (195.80121830375518) out of bounds\n",
      "Error evaluating cases: velocity (3113.84289643626) out of bounds\n",
      "Error evaluating cases: alpha (2.397226103055208) out of bounds\n",
      "Error evaluating cases: alpha (-3.195931708360558) out of bounds\n",
      "Error evaluating cases: alpha (2.407151093765909) out of bounds\n",
      "Error evaluating cases: alpha (3.681821749778143) out of bounds\n"
     ]
    },
    {
     "data": {
      "text/plain": [
       "[(0.0, 3030.8128593164324),\n",
       " (0.0, 325.82310501417345),\n",
       " (0.0, 2864.7490765081484),\n",
       " (-500.0, -436.3976555906251),\n",
       " (-500.0, -863.9649926869484),\n",
       " (-500.0, -549.8037990505023),\n",
       " (3.9459805692175767, 1375.7981994489169),\n",
       " (13.371212482864735, 2261.5986149181367)]"
      ]
     },
     "execution_count": 7,
     "metadata": {},
     "output_type": "execute_result"
    }
   ],
   "source": [
    "np.random.seed(42)\n",
    "\n",
    "cases = generate_cases(20)\n",
    "results = evaluate_cases(cases)\n",
    "[(r.score, float(r.min_alt)) for r in results if not r.simulation_failed]"
   ]
  },
  {
   "cell_type": "code",
   "execution_count": null,
   "id": "1bac8568",
   "metadata": {},
   "outputs": [],
   "source": []
  }
 ],
 "metadata": {
  "kernelspec": {
   "display_name": ".venv",
   "language": "python",
   "name": "python3"
  },
  "language_info": {
   "codemirror_mode": {
    "name": "ipython",
    "version": 3
   },
   "file_extension": ".py",
   "mimetype": "text/x-python",
   "name": "python",
   "nbconvert_exporter": "python",
   "pygments_lexer": "ipython3",
   "version": "3.10.15"
  }
 },
 "nbformat": 4,
 "nbformat_minor": 5
}
